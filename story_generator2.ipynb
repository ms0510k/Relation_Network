{
 "cells": [
  {
   "cell_type": "code",
   "execution_count": 266,
   "metadata": {
    "ExecuteTime": {
     "end_time": "2020-02-13T15:31:20.517775Z",
     "start_time": "2020-02-13T15:31:20.511895Z"
    }
   },
   "outputs": [
    {
     "data": {
      "text/html": [
       "<style>.container { width:90% !important; }</style>"
      ],
      "text/plain": [
       "<IPython.core.display.HTML object>"
      ]
     },
     "metadata": {},
     "output_type": "display_data"
    }
   ],
   "source": [
    "from IPython.core.display import display, HTML\n",
    "display(HTML(\"<style>.container { width:90% !important; }</style>\"))"
   ]
  },
  {
   "cell_type": "code",
   "execution_count": 8,
   "metadata": {
    "ExecuteTime": {
     "end_time": "2020-02-13T16:22:16.273630Z",
     "start_time": "2020-02-13T16:21:40.554897Z"
    }
   },
   "outputs": [
    {
     "name": "stderr",
     "output_type": "stream",
     "text": [
      "  1%|          | 2/236 [00:00<00:13, 17.34it/s]"
     ]
    },
    {
     "name": "stdout",
     "output_type": "stream",
     "text": [
      "-people-person-languages\n",
      "-government-politician-government_positions_held.-government-government_position_held-jurisdiction_of_office\n",
      "-music-artist-track_contributions.-music-track_contribution-role\n",
      "-organization-role-leaders.-organization-leadership-organization\n",
      "-location-location-partially_contains\n"
     ]
    },
    {
     "name": "stderr",
     "output_type": "stream",
     "text": [
      "  4%|▍         | 9/236 [00:00<00:10, 22.44it/s]"
     ]
    },
    {
     "name": "stdout",
     "output_type": "stream",
     "text": [
      "-people-ethnicity-languages_spoken\n",
      "-base-schemastaging-organization_extra-phone_number.-base-schemastaging-phone_sandbox-service_language\n",
      "-base-popstra-celebrity-breakup.-base-popstra-breakup-participant\n",
      "-location-hud_county_place-county\n",
      "-film-film-executive_produced_by\n",
      "-baseball-baseball_team-team_stats.-baseball-baseball_team_stats-season\n",
      "-location-statistical_region-rent50_2.-measurement_unit-dated_money_value-currency\n"
     ]
    },
    {
     "name": "stderr",
     "output_type": "stream",
     "text": [
      "\r",
      "  5%|▌         | 12/236 [00:02<00:55,  4.01it/s]"
     ]
    },
    {
     "name": "stdout",
     "output_type": "stream",
     "text": [
      "-education-educational_institution-students_graduates.-education-education-student\n"
     ]
    },
    {
     "name": "stderr",
     "output_type": "stream",
     "text": [
      "  8%|▊         | 18/236 [00:02<00:34,  6.29it/s]"
     ]
    },
    {
     "name": "stdout",
     "output_type": "stream",
     "text": [
      "-olympics-olympic_participating_country-medals_won.-olympics-olympic_medal_honor-olympics\n",
      "-base-culturalevent-event-entity_involved\n",
      "-base-saturdaynightlive-snl_cast_member-seasons.-base-saturdaynightlive-snl_season_tenure-cast_members\n",
      "-film-film-dubbing_performances.-film-dubbing_performance-actor\n",
      "-american_football-football_team-current_roster.-sports-sports_team_roster-position\n",
      "-music-instrument-instrumentalists\n",
      "-people-person-places_lived.-people-place_lived-location\n",
      "-sports-sports_team-sport\n"
     ]
    },
    {
     "name": "stderr",
     "output_type": "stream",
     "text": [
      "\r",
      "  9%|▉         | 21/236 [00:03<00:41,  5.18it/s]"
     ]
    },
    {
     "name": "stdout",
     "output_type": "stream",
     "text": [
      "-location-statistical_region-gdp_nominal.-measurement_unit-dated_money_value-currency\n"
     ]
    },
    {
     "name": "stderr",
     "output_type": "stream",
     "text": [
      " 12%|█▏        | 29/236 [00:04<00:35,  5.76it/s]"
     ]
    },
    {
     "name": "stdout",
     "output_type": "stream",
     "text": [
      "-organization-endowed_organization-endowment.-measurement_unit-dated_money_value-currency\n",
      "-base-x2010fifaworldcupsouthafrica-world_cup_squad-current_world_cup_squad.-base-x2010fifaworldcupsouthafrica-current_world_cup_squad-current_club\n",
      "-base-popstra-location-vacationers.-base-popstra-vacation_choice-vacationer\n",
      "-film-film-film_art_direction_by\n",
      "-film-film-edited_by\n",
      "-government-government_office_category-officeholders.-government-government_position_held-jurisdiction_of_office\n",
      "-business-business_operation-revenue.-measurement_unit-dated_money_value-currency\n",
      "-location-location-contains\n"
     ]
    },
    {
     "name": "stderr",
     "output_type": "stream",
     "text": [
      " 15%|█▌        | 36/236 [00:04<00:21,  9.50it/s]"
     ]
    },
    {
     "name": "stdout",
     "output_type": "stream",
     "text": [
      "-sports-sports_team-roster.-baseball-baseball_roster_position-position\n",
      "-organization-organization-headquarters.-location-mailing_address-citytown\n",
      "-film-film-story_by\n",
      "-sports-sports_league-teams.-sports-sports_league_participation-team\n",
      "-music-genre-parent_genre\n",
      "-dataworld-gardening_hint-split_to\n",
      "-sports-sports_position-players.-american_football-football_historical_roster_position-position_s\n",
      "-business-business_operation-operating_income.-measurement_unit-dated_money_value-currency\n",
      "-base-schemastaging-person_extra-net_worth.-measurement_unit-dated_money_value-currency\n"
     ]
    },
    {
     "name": "stderr",
     "output_type": "stream",
     "text": [
      "\r",
      " 17%|█▋        | 39/236 [00:06<00:38,  5.16it/s]"
     ]
    },
    {
     "name": "stdout",
     "output_type": "stream",
     "text": [
      "-location-hud_foreclosure_area-estimated_number_of_mortgages.-measurement_unit-dated_integer-source\n"
     ]
    },
    {
     "name": "stderr",
     "output_type": "stream",
     "text": [
      "\r",
      " 17%|█▋        | 41/236 [00:07<01:02,  3.11it/s]"
     ]
    },
    {
     "name": "stdout",
     "output_type": "stream",
     "text": [
      "-film-film_distributor-films_distributed.-film-film_film_distributor_relationship-film\n",
      "-organization-organization_member-member_of.-organization-organization_membership-organization\n"
     ]
    },
    {
     "name": "stderr",
     "output_type": "stream",
     "text": [
      " 20%|█▉        | 47/236 [00:07<00:33,  5.67it/s]"
     ]
    },
    {
     "name": "stdout",
     "output_type": "stream",
     "text": [
      "-film-film-written_by\n",
      "-film-actor-film.-film-performance-film\n",
      "-base-petbreeds-city_with_dogs-top_breeds.-base-petbreeds-dog_city_relationship-dog_breed\n",
      "-film-film-prequel\n",
      "-sports-professional_sports_team-draft_picks.-sports-sports_league_draft_pick-school\n",
      "-location-statistical_region-gdp_nominal_per_capita.-measurement_unit-dated_money_value-currency\n",
      "-music-performance_role-regular_performances.-music-group_membership-role\n",
      "-people-person-sibling_s.-people-sibling_relationship-sibling\n"
     ]
    },
    {
     "name": "stderr",
     "output_type": "stream",
     "text": [
      "\r",
      " 22%|██▏       | 52/236 [00:07<00:24,  7.64it/s]"
     ]
    },
    {
     "name": "stdout",
     "output_type": "stream",
     "text": [
      "-music-performance_role-regular_performances.-music-group_membership-group\n",
      "-location-country-second_level_divisions\n",
      "-base-americancomedy-celebrity_impressionist-celebrities_impersonated\n",
      "-location-statistical_region-gdp_real.-measurement_unit-adjusted_money_value-adjustment_currency\n",
      "-film-film-release_date_s.-film-film_regional_release_date-film_regional_debut_venue\n",
      "-time-event-locations\n",
      "-education-university-international_tuition.-measurement_unit-dated_money_value-currency\n",
      "-film-film-film_festivals\n"
     ]
    },
    {
     "name": "stderr",
     "output_type": "stream",
     "text": [
      "\r",
      " 25%|██▍       | 58/236 [00:07<00:17, 10.15it/s]"
     ]
    },
    {
     "name": "stdout",
     "output_type": "stream",
     "text": [
      "-government-legislative_session-members.-government-government_position_held-district_represented\n",
      "-olympics-olympic_games-medals_awarded.-olympics-olympic_medal_honor-medal\n"
     ]
    },
    {
     "name": "stderr",
     "output_type": "stream",
     "text": [
      "\r",
      " 26%|██▋       | 62/236 [00:08<00:17,  9.90it/s]"
     ]
    },
    {
     "name": "stdout",
     "output_type": "stream",
     "text": [
      "-education-field_of_study-students_majoring.-education-education-major_field_of_study\n",
      "-award-award_nominee-award_nominations.-award-award_nomination-nominated_for\n",
      "-music-record_label-artist\n",
      "-film-film-genre\n",
      "-film-film-runtime.-film-film_cut-film_release_region\n",
      "-soccer-football_team-current_roster.-sports-sports_team_roster-position\n"
     ]
    },
    {
     "name": "stderr",
     "output_type": "stream",
     "text": [
      "\r",
      " 28%|██▊       | 67/236 [00:08<00:13, 12.82it/s]"
     ]
    },
    {
     "name": "stdout",
     "output_type": "stream",
     "text": [
      "-location-statistical_region-gni_per_capita_in_ppp_dollars.-measurement_unit-dated_money_value-currency\n",
      "-location-us_county-county_seat\n",
      "-award-award_nominated_work-award_nominations.-award-award_nomination-nominated_for\n",
      "-location-hud_county_place-place\n",
      "-education-educational_institution-school_type\n",
      "-base-schemastaging-organization_extra-phone_number.-base-schemastaging-phone_sandbox-service_location\n"
     ]
    },
    {
     "name": "stderr",
     "output_type": "stream",
     "text": [
      " 32%|███▏      | 75/236 [00:08<00:09, 16.62it/s]"
     ]
    },
    {
     "name": "stdout",
     "output_type": "stream",
     "text": [
      "-olympics-olympic_participating_country-medals_won.-olympics-olympic_medal_honor-medal\n",
      "-film-special_film_performance_type-film_performance_type.-film-performance-film\n",
      "-user-ktrueman-default_domain-international_organization-member_states\n",
      "-location-administrative_division-first_level_division_of\n",
      "-tv-tv_program-genre\n",
      "-base-eating-practicer_of_diet-diet\n"
     ]
    },
    {
     "name": "stderr",
     "output_type": "stream",
     "text": [
      " 36%|███▌      | 84/236 [00:08<00:06, 23.15it/s]"
     ]
    },
    {
     "name": "stdout",
     "output_type": "stream",
     "text": [
      "-time-event-instance_of_recurring_event\n",
      "-organization-organization-place_founded\n",
      "-location-country-form_of_government\n",
      "-education-educational_institution-students_graduates.-education-education-major_field_of_study\n",
      "-sports-sports_team-roster.-american_football-football_roster_position-position\n",
      "-tv-tv_producer-programs_produced.-tv-tv_producer_term-program\n",
      "-education-educational_degree-people_with_this_degree.-education-education-student\n",
      "-military-military_combatant-military_conflicts.-military-military_combatant_group-combatants\n",
      "-user-tsegaran-random-taxonomy_subject-entry.-user-tsegaran-random-taxonomy_entry-taxonomy\n"
     ]
    },
    {
     "name": "stderr",
     "output_type": "stream",
     "text": [
      "\r",
      " 37%|███▋      | 88/236 [00:09<00:08, 17.61it/s]"
     ]
    },
    {
     "name": "stdout",
     "output_type": "stream",
     "text": [
      "-sports-sports_team_location-teams\n",
      "-location-administrative_division-country\n",
      "-business-business_operation-assets.-measurement_unit-dated_money_value-currency\n",
      "-people-person-religion\n",
      "-sports-sports_team-roster.-basketball-basketball_roster_position-position\n"
     ]
    },
    {
     "name": "stderr",
     "output_type": "stream",
     "text": [
      "\r",
      " 39%|███▉      | 92/236 [00:09<00:06, 20.92it/s]"
     ]
    },
    {
     "name": "stdout",
     "output_type": "stream",
     "text": [
      "-award-award_winning_work-awards_won.-award-award_honor-honored_for\n",
      "-education-university-fraternities_and_sororities\n",
      "-people-person-spouse_s.-people-marriage-type_of_union\n"
     ]
    },
    {
     "name": "stderr",
     "output_type": "stream",
     "text": [
      " 42%|████▏     | 98/236 [00:09<00:09, 14.32it/s]"
     ]
    },
    {
     "name": "stdout",
     "output_type": "stream",
     "text": [
      "-tv-tv_program-program_creator\n",
      "-medicine-disease-risk_factors\n",
      "-user-alexander-philosophy-philosopher-interests\n",
      "-music-instrument-family\n",
      "-olympics-olympic_sport-athletes.-olympics-olympic_athlete_affiliation-olympics\n",
      "-award-award_winner-awards_won.-award-award_honor-award_winner\n",
      "-film-film-produced_by\n"
     ]
    },
    {
     "name": "stderr",
     "output_type": "stream",
     "text": [
      "\r",
      " 43%|████▎     | 102/236 [00:10<00:07, 17.61it/s]"
     ]
    },
    {
     "name": "stdout",
     "output_type": "stream",
     "text": [
      "-base-popstra-celebrity-friendship.-base-popstra-friendship-participant\n",
      "-people-person-spouse_s.-people-marriage-location_of_ceremony\n",
      "-film-film-featured_film_locations\n",
      "-film-film-language\n"
     ]
    },
    {
     "name": "stderr",
     "output_type": "stream",
     "text": [
      "\r",
      " 45%|████▍     | 106/236 [00:10<00:09, 13.48it/s]"
     ]
    },
    {
     "name": "stdout",
     "output_type": "stream",
     "text": [
      "-film-film-other_crew.-film-film_crew_gig-crewmember\n",
      "-film-film-release_date_s.-film-film_regional_release_date-film_release_region\n"
     ]
    },
    {
     "name": "stderr",
     "output_type": "stream",
     "text": [
      " 48%|████▊     | 113/236 [00:10<00:08, 13.92it/s]"
     ]
    },
    {
     "name": "stdout",
     "output_type": "stream",
     "text": [
      "-music-group_member-membership.-music-group_membership-role\n",
      "-government-political_party-politicians_in_this_party.-government-political_party_tenure-politician\n",
      "-education-field_of_study-students_majoring.-education-education-student\n",
      "-soccer-football_player-current_team.-sports-sports_team_roster-team\n",
      "-film-film-distributors.-film-film_film_distributor_relationship-film_distribution_medium\n",
      "-base-marchmadness-ncaa_basketball_tournament-seeds.-base-marchmadness-ncaa_tournament_seed-team\n",
      "-olympics-olympic_games-sports\n",
      "-award-award_ceremony-awards_presented.-award-award_honor-honored_for\n"
     ]
    },
    {
     "name": "stderr",
     "output_type": "stream",
     "text": [
      "\r",
      " 50%|████▉     | 117/236 [00:11<00:06, 17.14it/s]"
     ]
    },
    {
     "name": "stdout",
     "output_type": "stream",
     "text": [
      "-award-award_category-winners.-award-award_honor-award_winner\n",
      "-film-film-release_date_s.-film-film_regional_release_date-film_release_distribution_medium\n",
      "-ice_hockey-hockey_team-current_roster.-sports-sports_team_roster-position\n"
     ]
    },
    {
     "name": "stderr",
     "output_type": "stream",
     "text": [
      " 52%|█████▏    | 123/236 [00:18<00:59,  1.90it/s]"
     ]
    },
    {
     "name": "stdout",
     "output_type": "stream",
     "text": [
      "-film-film-personal_appearances.-film-personal_film_appearance-person\n",
      "-music-group_member-membership.-music-group_membership-group\n",
      "-award-ranked_item-appears_in_ranked_lists.-award-ranking-list\n",
      "-organization-organization-headquarters.-location-mailing_address-country\n",
      "-award-hall_of_fame-inductees.-award-hall_of_fame_induction-inductee\n"
     ]
    },
    {
     "name": "stderr",
     "output_type": "stream",
     "text": [
      " 56%|█████▌    | 131/236 [00:18<00:28,  3.63it/s]"
     ]
    },
    {
     "name": "stdout",
     "output_type": "stream",
     "text": [
      "-tv-tv_personality-tv_regular_appearances.-tv-tv_regular_personal_appearance-program\n",
      "-influence-influence_node-influenced_by\n",
      "-business-business_operation-industry\n",
      "-celebrities-celebrity-celebrity_friends.-celebrities-friendship-friend\n",
      "-influence-influence_node-peers.-influence-peer_relationship-peers\n",
      "-tv-tv_producer-programs_produced.-tv-tv_producer_term-producer_type\n",
      "-film-film_set_designer-film_sets_designed\n",
      "-film-film-cinematography\n"
     ]
    },
    {
     "name": "stderr",
     "output_type": "stream",
     "text": [
      "\r",
      " 57%|█████▋    | 135/236 [00:18<00:20,  4.98it/s]"
     ]
    },
    {
     "name": "stdout",
     "output_type": "stream",
     "text": [
      "-broadcast-content-artist\n",
      "-film-film-other_crew.-film-film_crew_gig-film_crew_role\n",
      "-education-educational_institution_campus-educational_institution\n",
      "-tv-non_character_role-tv_regular_personal_appearances.-tv-tv_regular_personal_appearance-person\n",
      "-education-university-domestic_tuition.-measurement_unit-dated_money_value-currency\n",
      "-location-statistical_region-religions.-location-religion_percentage-religion\n",
      "-education-university-local_tuition.-measurement_unit-dated_money_value-currency\n",
      "-film-film-distributors.-film-film_film_distributor_relationship-region\n"
     ]
    },
    {
     "name": "stderr",
     "output_type": "stream",
     "text": [
      " 61%|██████    | 144/236 [00:18<00:10,  8.53it/s]"
     ]
    },
    {
     "name": "stdout",
     "output_type": "stream",
     "text": [
      "-sports-professional_sports_team-draft_picks.-sports-sports_league_draft_pick-draft\n",
      "-base-localfood-seasonal_month-produce_available.-base-localfood-produce_availability-seasonal_months\n",
      "-people-person-nationality\n",
      "-organization-organization-headquarters.-location-mailing_address-state_province_region\n",
      "-education-educational_institution-campuses\n",
      "-film-director-film\n"
     ]
    },
    {
     "name": "stderr",
     "output_type": "stream",
     "text": [
      " 65%|██████▍   | 153/236 [00:19<00:05, 14.12it/s]"
     ]
    },
    {
     "name": "stdout",
     "output_type": "stream",
     "text": [
      "-film-film-country\n",
      "-education-educational_degree-people_with_this_degree.-education-education-major_field_of_study\n",
      "-music-performance_role-guest_performances.-music-recording_contribution-performance_role\n",
      "-film-film-costume_design_by\n",
      "-sports-sports_position-players.-sports-sports_team_roster-team\n",
      "-people-person-place_of_birth\n",
      "-people-ethnicity-geographic_distribution\n",
      "-organization-organization_founder-organizations_founded\n",
      "-base-aareas-schema-administrative_area-administrative_parent\n",
      "-film-film-production_companies\n",
      "-award-award_category-category_of\n"
     ]
    },
    {
     "name": "stderr",
     "output_type": "stream",
     "text": [
      " 68%|██████▊   | 161/236 [00:19<00:04, 18.12it/s]"
     ]
    },
    {
     "name": "stdout",
     "output_type": "stream",
     "text": [
      "-base-locations-continents-countries_within\n",
      "-film-film-film_format\n",
      "-medicine-disease-notable_people_with_this_condition\n",
      "-education-educational_institution-colors\n",
      "-organization-non_profit_organization-registered_with.-organization-non_profit_registration-registering_agency\n"
     ]
    },
    {
     "name": "stderr",
     "output_type": "stream",
     "text": [
      "\r",
      " 70%|██████▉   | 165/236 [00:19<00:04, 16.59it/s]"
     ]
    },
    {
     "name": "stdout",
     "output_type": "stream",
     "text": [
      "-award-award_ceremony-awards_presented.-award-award_honor-award_winner\n",
      "-people-deceased_person-place_of_death\n",
      "-music-genre-artists\n",
      "-music-artist-contribution.-music-recording_contribution-performance_role\n",
      "-film-actor-dubbing_performances.-film-dubbing_performance-language\n",
      "-people-marriage_union_type-unions_of_this_type.-people-marriage-location_of_ceremony\n",
      "-tv-tv_program-country_of_origin\n"
     ]
    },
    {
     "name": "stderr",
     "output_type": "stream",
     "text": [
      " 73%|███████▎  | 173/236 [00:19<00:02, 22.58it/s]"
     ]
    },
    {
     "name": "stdout",
     "output_type": "stream",
     "text": [
      "-food-food-nutrients.-food-nutrition_fact-nutrient\n",
      "-people-person-profession\n",
      "-tv-tv_program-regular_cast.-tv-regular_tv_appearance-actor\n",
      "-travel-travel_destination-how_to_get_here.-travel-transportation-mode_of_transportation\n",
      "-government-politician-government_positions_held.-government-government_position_held-legislative_sessions\n",
      "-people-ethnicity-people\n"
     ]
    },
    {
     "name": "stderr",
     "output_type": "stream",
     "text": [
      "\r",
      " 75%|███████▌  | 177/236 [00:20<00:02, 20.58it/s]"
     ]
    },
    {
     "name": "stdout",
     "output_type": "stream",
     "text": [
      "-travel-travel_destination-climate.-travel-travel_destination_monthly_climate-month\n",
      "-location-capital_of_administrative_division-capital_of.-location-administrative_division_capital_relationship-administrative_division\n",
      "-film-film-estimated_budget.-measurement_unit-dated_money_value-currency\n",
      "-government-politician-government_positions_held.-government-government_position_held-basic_title\n"
     ]
    },
    {
     "name": "stderr",
     "output_type": "stream",
     "text": [
      " 79%|███████▉  | 186/236 [00:25<00:21,  2.34it/s]"
     ]
    },
    {
     "name": "stdout",
     "output_type": "stream",
     "text": [
      "-sports-sport-pro_athletes.-sports-pro_sports_played-athlete\n",
      "-film-actor-film.-film-performance-special_performance_type\n",
      "-business-job_title-people_with_this_title.-business-employment_tenure-company\n",
      "-military-military_conflict-combatants.-military-military_combatant_group-combatants\n",
      "-soccer-football_team-current_roster.-soccer-football_roster_position-position\n",
      "-education-educational_degree-people_with_this_degree.-education-education-institution\n",
      "-people-deceased_person-place_of_burial\n",
      "-olympics-olympic_participating_country-athletes.-olympics-olympic_athlete_affiliation-olympics\n",
      "-base-popstra-celebrity-dated.-base-popstra-dated-participant\n"
     ]
    },
    {
     "name": "stderr",
     "output_type": "stream",
     "text": [
      " 82%|████████▏ | 193/236 [00:26<00:09,  4.40it/s]"
     ]
    },
    {
     "name": "stdout",
     "output_type": "stream",
     "text": [
      "-tv-tv_program-languages\n",
      "-sports-pro_athlete-teams.-sports-sports_team_roster-team\n",
      "-sports-sports_position-players.-sports-sports_team_roster-position\n",
      "-award-award_nominee-award_nominations.-award-award_nomination-award_nominee\n",
      "-music-artist-origin\n",
      "-organization-organization-child.-organization-organization_relationship-child\n",
      "-people-person-employment_history.-business-employment_tenure-company\n"
     ]
    },
    {
     "name": "stderr",
     "output_type": "stream",
     "text": [
      " 86%|████████▌ | 202/236 [00:26<00:04,  8.04it/s]"
     ]
    },
    {
     "name": "stdout",
     "output_type": "stream",
     "text": [
      "-award-award_category-nominees.-award-award_nomination-nominated_for\n",
      "-award-award_category-disciplines_or_subjects\n",
      "-film-film_subject-films\n",
      "-base-popstra-celebrity-canoodled.-base-popstra-canoodled-participant\n",
      "-location-country-official_language\n",
      "-sports-sports_league_draft-picks.-sports-sports_league_draft_pick-school\n",
      "-people-person-spouse_s.-people-marriage-spouse\n",
      "-people-person-gender\n"
     ]
    },
    {
     "name": "stderr",
     "output_type": "stream",
     "text": [
      "\r",
      " 87%|████████▋ | 206/236 [00:26<00:02, 10.34it/s]"
     ]
    },
    {
     "name": "stdout",
     "output_type": "stream",
     "text": [
      "-music-performance_role-track_performances.-music-track_contribution-role\n",
      "-sports-sports_team-roster.-american_football-football_historical_roster_position-position_s\n",
      "-award-award_winning_work-awards_won.-award-award_honor-award\n",
      "-location-location-time_zones\n",
      "-base-biblioness-bibs_location-state\n",
      "-film-film-film_production_design_by\n",
      "-film-person_or_entity_appearing_in_film-films.-film-personal_film_appearance-type_of_appearance\n"
     ]
    },
    {
     "name": "stderr",
     "output_type": "stream",
     "text": [
      "\r",
      " 89%|████████▉ | 210/236 [00:26<00:02, 12.86it/s]"
     ]
    },
    {
     "name": "stdout",
     "output_type": "stream",
     "text": [
      "-location-country-capital\n",
      "-tv-tv_network-programs.-tv-tv_network_duration-program\n",
      "-government-legislative_session-members.-government-government_position_held-legislative_sessions\n",
      "-common-topic-webpage.-common-webpage-category\n"
     ]
    },
    {
     "name": "stderr",
     "output_type": "stream",
     "text": [
      "\r",
      " 91%|█████████ | 214/236 [00:33<00:13,  1.68it/s]"
     ]
    },
    {
     "name": "stdout",
     "output_type": "stream",
     "text": [
      "-location-location-adjoin_s.-location-adjoining_relationship-adjoins\n"
     ]
    },
    {
     "name": "stderr",
     "output_type": "stream",
     "text": [
      "\r",
      " 92%|█████████▏| 217/236 [00:34<00:09,  1.92it/s]"
     ]
    },
    {
     "name": "stdout",
     "output_type": "stream",
     "text": [
      "-award-award_category-winners.-award-award_honor-ceremony\n",
      "-language-human_language-countries_spoken_in\n",
      "-base-aareas-schema-administrative_area-administrative_area_type\n"
     ]
    },
    {
     "name": "stderr",
     "output_type": "stream",
     "text": [
      " 94%|█████████▍| 223/236 [00:35<00:03,  3.37it/s]"
     ]
    },
    {
     "name": "stdout",
     "output_type": "stream",
     "text": [
      "-olympics-olympic_games-participating_countries\n",
      "-government-governmental_body-members.-government-government_position_held-legislative_sessions\n",
      "-tv-tv_writer-tv_programs.-tv-tv_program_writer_relationship-tv_program\n",
      "-sports-sports_team-colors\n",
      "-medicine-symptom-symptom_of\n",
      "-user-jg-default_domain-olympic_games-sports\n",
      "-base-schemastaging-organization_extra-phone_number.-base-schemastaging-phone_sandbox-contact_category\n",
      "-base-biblioness-bibs_location-country\n"
     ]
    },
    {
     "name": "stderr",
     "output_type": "stream",
     "text": [
      "\r",
      " 96%|█████████▌| 227/236 [00:35<00:01,  4.63it/s]"
     ]
    },
    {
     "name": "stdout",
     "output_type": "stream",
     "text": [
      "-people-cause_of_death-people\n",
      "-people-profession-specialization_of\n",
      "-location-statistical_region-places_exported_to.-location-imports_and_exports-exported_to\n",
      "-award-award_nominee-award_nominations.-award-award_nomination-award\n",
      "-base-aareas-schema-administrative_area-capital\n",
      "-tv-tv_program-tv_producer.-tv-tv_producer_term-producer_type\n"
     ]
    },
    {
     "name": "stderr",
     "output_type": "stream",
     "text": [
      "100%|██████████| 236/236 [00:35<00:00,  6.61it/s]"
     ]
    },
    {
     "name": "stdout",
     "output_type": "stream",
     "text": [
      "-celebrities-celebrity-sexual_relationships.-celebrities-romantic_relationship-celebrity\n",
      "-award-award_winning_work-awards_won.-award-award_honor-award_winner\n",
      "-olympics-olympic_sport-athletes.-olympics-olympic_athlete_affiliation-country\n",
      "-film-film-music\n"
     ]
    },
    {
     "name": "stderr",
     "output_type": "stream",
     "text": [
      "\n"
     ]
    }
   ],
   "source": [
    "import numpy as np\n",
    "import shutil\n",
    "import pandas as pd\n",
    "from IPython.display import display\n",
    "import os\n",
    "from tqdm import tqdm\n",
    "\n",
    "def Convert(tup, di): \n",
    "    for a, b in tup: \n",
    "        di.setdefault(a, []).append(b) \n",
    "    return di\n",
    "\n",
    "mode = \"dev\"\n",
    "# f = open(\"../Relation_Triples/#16_-people-person-nationality.txt\", 'r')\n",
    "\n",
    "\n",
    "from os import walk\n",
    "fileNameList = []\n",
    "# fileNameList = ['/people/person/nationality']\n",
    "for (dirpath, dirnames, filenames) in walk(\"pra_output\"):\n",
    "    fileNameList.extend(filenames)\n",
    "    \n",
    "        \n",
    "for relation in tqdm(fileNameList):\n",
    "    relDir = relation[:-4]\n",
    "    print(relDir)\n",
    "    targetRelation = relDir.replace(\"-\", \"/\")\n",
    "    f = open(f'decoded_{mode}.tsv', 'r')\n",
    "    target_triples = list(map(lambda x : x.replace(' ','_').split(\"\\t\"), f.read().splitlines()))\n",
    "    target_triples = list(filter(lambda x : x[1] == targetRelation , target_triples))\n",
    "    f.close()\n",
    "    \n",
    "#     f = open(f'{relDir}/totalSentences.txt', 'r')   #for train\n",
    "    f = open(f'{relDir}/{mode}/totalSentences.txt', 'r')\n",
    "\n",
    "\n",
    "\n",
    "    sentences = list(map(lambda x : x.replace('\\'', '').replace('\"', ''), f.read().splitlines()))\n",
    "    # sentences = list(map(lambda x : (x.split(\"\\t\")[0], x), ))\n",
    "    f.close()\n",
    "    split_sentences = list(map(lambda x : x.split(\"\\t\"), sentences))\n",
    "    res = []\n",
    "    for s in split_sentences:\n",
    "        if len(s) == 7:\n",
    "            key = s[0]\n",
    "            sentence = f'{s[0]} {s[1]} {s[3]} {s[5]} {s[6]}'\n",
    "            res.append((s[0], sentence))\n",
    "        elif len(s) == 5:\n",
    "            key = s[0]\n",
    "            sentence = f'{s[0]} {s[1]} {s[3]} {s[4]}'\n",
    "            res.append((s[0], sentence))\n",
    "\n",
    "    # keyvalue_sentence = res\n",
    "    keyvalue_sentence = list(set(res)) \n",
    "\n",
    "\n",
    "    dict ={}\n",
    "    sentence_dict = Convert(keyvalue_sentence, dict)\n",
    "    ccc = 0\n",
    "    max_sentences = 20\n",
    "\n",
    "    savePath = '/home/lora/rn_test/Relation-Network-PyTorch/FB15K237/withVal'\n",
    "    \n",
    "#     if not os.path.exists(f'{savePath}/{relDir}'):\n",
    "#         os.mkdir(f'{savePath}/{relDir}')\n",
    "#     else:\n",
    "#         shutil.rmtree(f'{savePath}/{relDir}')\n",
    "#         os.mkdir(f'{savePath}/{relDir}')\n",
    "    \n",
    "#     f = open(f'{savePath}/{relDir}/{mode}_story.txt', 'w')\n",
    "    f = open(f'{savePath}/{relDir}/val_story.txt', 'w')\n",
    "    stories =[]\n",
    "    for triple in target_triples:\n",
    "        sentence_limit = 0\n",
    "        ccc += 1\n",
    "        subj, pred, obj = triple\n",
    "        context = \"\"\n",
    "        cnt = 0\n",
    "        support_facts_list = []\n",
    "        if subj in sentence_dict.keys():\n",
    "            for eachSentence in sentence_dict[subj]:\n",
    "                if sentence_limit == max_sentences:\n",
    "                    break\n",
    "                else :\n",
    "                    cnt += 1\n",
    "                    sentence_limit += 1\n",
    "                    if obj in eachSentence:\n",
    "                        support_facts_list.append(str(cnt))\n",
    "                    context += f'{cnt} {eachSentence}\\n'\n",
    "        else:\n",
    "            continue\n",
    "        cnt +=1\n",
    "        question = f'{cnt} {subj} {pred} ?'\n",
    "        answer = obj\n",
    "        support_facts=\" \".join(support_facts_list)\n",
    "\n",
    "        story = f'{context}{question}\\t{answer}\\t{support_facts}\\n'\n",
    "        f.write(story)\n",
    "        stories.append(story)\n",
    "    f.close()"
   ]
  },
  {
   "cell_type": "code",
   "execution_count": 239,
   "metadata": {
    "ExecuteTime": {
     "end_time": "2020-02-12T13:17:07.917761Z",
     "start_time": "2020-02-12T13:17:07.880202Z"
    }
   },
   "outputs": [],
   "source": []
  },
  {
   "cell_type": "code",
   "execution_count": 240,
   "metadata": {
    "ExecuteTime": {
     "end_time": "2020-02-12T13:17:08.403987Z",
     "start_time": "2020-02-12T13:17:08.401232Z"
    }
   },
   "outputs": [
    {
     "data": {
      "text/plain": [
       "6149"
      ]
     },
     "execution_count": 240,
     "metadata": {},
     "output_type": "execute_result"
    }
   ],
   "source": []
  },
  {
   "cell_type": "code",
   "execution_count": 241,
   "metadata": {
    "ExecuteTime": {
     "end_time": "2020-02-12T13:17:08.910885Z",
     "start_time": "2020-02-12T13:17:08.905485Z"
    }
   },
   "outputs": [],
   "source": [
    "def Convert(tup, di): \n",
    "    for a, b in tup: \n",
    "        di.setdefault(a, []).append(b) \n",
    "    return di\n",
    "\n",
    "dict ={}\n",
    "sentence_dict = Convert(keyvalue_sentence, dict)"
   ]
  },
  {
   "cell_type": "code",
   "execution_count": 246,
   "metadata": {
    "ExecuteTime": {
     "end_time": "2020-02-12T13:17:51.173228Z",
     "start_time": "2020-02-12T13:17:51.167745Z"
    }
   },
   "outputs": [
    {
     "data": {
      "text/plain": [
       "325"
      ]
     },
     "execution_count": 246,
     "metadata": {},
     "output_type": "execute_result"
    }
   ],
   "source": [
    "len(sentence_dict)"
   ]
  },
  {
   "cell_type": "code",
   "execution_count": 247,
   "metadata": {
    "ExecuteTime": {
     "end_time": "2020-02-12T13:18:20.067568Z",
     "start_time": "2020-02-12T13:18:20.048129Z"
    }
   },
   "outputs": [],
   "source": [
    "ccc = 0\n",
    "max_sentences = 20\n",
    "f = open(f'-people-person-nationality/{mode}/{mode}_story.txt', 'w')\n",
    "stories =[]\n",
    "for triple in nationality_triples:\n",
    "    sentence_limit = 0\n",
    "    ccc += 1\n",
    "    subj, pred, obj = triple\n",
    "    context = \"\"\n",
    "    cnt = 0\n",
    "    support_facts_list = []\n",
    "    if subj in sentence_dict.keys():\n",
    "        for eachSentence in sentence_dict[subj]:\n",
    "            if sentence_limit == max_sentences:\n",
    "                break\n",
    "            else :\n",
    "                cnt += 1\n",
    "                sentence_limit += 1\n",
    "                if obj in eachSentence:\n",
    "                    support_facts_list.append(str(cnt))\n",
    "                context += f'{cnt} {eachSentence}\\n'\n",
    "    else:\n",
    "        continue\n",
    "    cnt +=1\n",
    "    question = f'{cnt} {subj} {pred} ?'\n",
    "    answer = obj\n",
    "    support_facts=\" \".join(support_facts_list)\n",
    "    \n",
    "    story = f'{context}{question}\\t{answer}\\t{support_facts}\\n'\n",
    "    f.write(story)\n",
    "    stories.append(story)\n",
    "f.close()\n"
   ]
  },
  {
   "cell_type": "code",
   "execution_count": 248,
   "metadata": {
    "ExecuteTime": {
     "end_time": "2020-02-12T13:18:25.718378Z",
     "start_time": "2020-02-12T13:18:25.712769Z"
    }
   },
   "outputs": [
    {
     "data": {
      "text/plain": [
       "328"
      ]
     },
     "execution_count": 248,
     "metadata": {},
     "output_type": "execute_result"
    }
   ],
   "source": [
    "len(stories)"
   ]
  },
  {
   "cell_type": "code",
   "execution_count": 251,
   "metadata": {
    "ExecuteTime": {
     "end_time": "2020-02-12T13:39:15.976459Z",
     "start_time": "2020-02-12T13:39:15.970697Z"
    }
   },
   "outputs": [
    {
     "name": "stdout",
     "output_type": "stream",
     "text": [
      "('asdf', 1)\n"
     ]
    }
   ],
   "source": [
    "a = ['asdf']\n",
    "b = [1]\n",
    "for dd in zip(a,b):\n",
    "    print(dd)"
   ]
  },
  {
   "cell_type": "code",
   "execution_count": 2,
   "metadata": {
    "ExecuteTime": {
     "end_time": "2020-02-10T13:45:05.500011Z",
     "start_time": "2020-02-10T13:45:05.485423Z"
    }
   },
   "outputs": [
    {
     "data": {
      "text/plain": [
       "272115"
      ]
     },
     "execution_count": 2,
     "metadata": {},
     "output_type": "execute_result"
    }
   ],
   "source": [
    "for t in nationality_triples:\n",
    "    s, p, o = t\n",
    "    f\n",
    "    "
   ]
  },
  {
   "cell_type": "code",
   "execution_count": 254,
   "metadata": {
    "ExecuteTime": {
     "end_time": "2020-02-13T14:32:38.239986Z",
     "start_time": "2020-02-13T14:32:38.237761Z"
    }
   },
   "outputs": [],
   "source": [
    "a = ['a', 'b']\n",
    "c, d = a"
   ]
  },
  {
   "cell_type": "code",
   "execution_count": 255,
   "metadata": {
    "ExecuteTime": {
     "end_time": "2020-02-13T14:32:39.915547Z",
     "start_time": "2020-02-13T14:32:39.912765Z"
    }
   },
   "outputs": [
    {
     "data": {
      "text/plain": [
       "'a'"
      ]
     },
     "execution_count": 255,
     "metadata": {},
     "output_type": "execute_result"
    }
   ],
   "source": [
    "c"
   ]
  },
  {
   "cell_type": "code",
   "execution_count": 258,
   "metadata": {
    "ExecuteTime": {
     "end_time": "2020-02-13T14:48:59.761994Z",
     "start_time": "2020-02-13T14:48:59.749183Z"
    }
   },
   "outputs": [
    {
     "ename": "AttributeError",
     "evalue": "'bool' object has no attribute 'tolist'",
     "output_type": "error",
     "traceback": [
      "\u001b[0;31m---------------------------------------------------------------------------\u001b[0m",
      "\u001b[0;31mAttributeError\u001b[0m                            Traceback (most recent call last)",
      "\u001b[0;32m<ipython-input-258-2ee92400fe90>\u001b[0m in \u001b[0;36m<module>\u001b[0;34m\u001b[0m\n\u001b[1;32m      1\u001b[0m \u001b[0ma\u001b[0m \u001b[0;34m=\u001b[0m \u001b[0;36m1\u001b[0m\u001b[0;34m\u001b[0m\u001b[0;34m\u001b[0m\u001b[0m\n\u001b[1;32m      2\u001b[0m \u001b[0mb\u001b[0m \u001b[0;34m=\u001b[0m \u001b[0;36m2\u001b[0m\u001b[0;34m\u001b[0m\u001b[0;34m\u001b[0m\u001b[0m\n\u001b[0;32m----> 3\u001b[0;31m \u001b[0;34m(\u001b[0m\u001b[0ma\u001b[0m \u001b[0;34m==\u001b[0m \u001b[0mb\u001b[0m\u001b[0;34m)\u001b[0m\u001b[0;34m.\u001b[0m\u001b[0mtolist\u001b[0m\u001b[0;34m(\u001b[0m\u001b[0;34m)\u001b[0m\u001b[0;34m\u001b[0m\u001b[0;34m\u001b[0m\u001b[0m\n\u001b[0m",
      "\u001b[0;31mAttributeError\u001b[0m: 'bool' object has no attribute 'tolist'"
     ]
    }
   ],
   "source": [
    "a = 1\n",
    "b = 2\n",
    "(a == b).tolist()"
   ]
  },
  {
   "cell_type": "code",
   "execution_count": null,
   "metadata": {},
   "outputs": [],
   "source": []
  }
 ],
 "metadata": {
  "kernelspec": {
   "display_name": "Python [conda env:root] *",
   "language": "python",
   "name": "conda-root-py"
  },
  "language_info": {
   "codemirror_mode": {
    "name": "ipython",
    "version": 3
   },
   "file_extension": ".py",
   "mimetype": "text/x-python",
   "name": "python",
   "nbconvert_exporter": "python",
   "pygments_lexer": "ipython3",
   "version": "3.7.4"
  },
  "varInspector": {
   "cols": {
    "lenName": 16,
    "lenType": 16,
    "lenVar": 40
   },
   "kernels_config": {
    "python": {
     "delete_cmd_postfix": "",
     "delete_cmd_prefix": "del ",
     "library": "var_list.py",
     "varRefreshCmd": "print(var_dic_list())"
    },
    "r": {
     "delete_cmd_postfix": ") ",
     "delete_cmd_prefix": "rm(",
     "library": "var_list.r",
     "varRefreshCmd": "cat(var_dic_list()) "
    }
   },
   "types_to_exclude": [
    "module",
    "function",
    "builtin_function_or_method",
    "instance",
    "_Feature"
   ],
   "window_display": false
  }
 },
 "nbformat": 4,
 "nbformat_minor": 2
}
